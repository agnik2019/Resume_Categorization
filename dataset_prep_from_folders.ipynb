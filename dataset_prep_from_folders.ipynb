{
 "cells": [
  {
   "cell_type": "code",
   "execution_count": 1,
   "metadata": {},
   "outputs": [],
   "source": [
    "import pandas as pd\n",
    "import torch\n",
    "import pickle\n",
    "\n",
    "from bs4 import BeautifulSoup\n",
    "\n",
    "import seaborn as sns\n",
    "import torch.nn as nn\n",
    "import numpy as np"
   ]
  },
  {
   "cell_type": "code",
   "execution_count": 2,
   "metadata": {},
   "outputs": [],
   "source": [
    "df = pd.read_csv(\"Resume.csv\")"
   ]
  },
  {
   "cell_type": "code",
   "execution_count": 3,
   "metadata": {},
   "outputs": [
    {
     "data": {
      "text/html": [
       "<div>\n",
       "<style scoped>\n",
       "    .dataframe tbody tr th:only-of-type {\n",
       "        vertical-align: middle;\n",
       "    }\n",
       "\n",
       "    .dataframe tbody tr th {\n",
       "        vertical-align: top;\n",
       "    }\n",
       "\n",
       "    .dataframe thead th {\n",
       "        text-align: right;\n",
       "    }\n",
       "</style>\n",
       "<table border=\"1\" class=\"dataframe\">\n",
       "  <thead>\n",
       "    <tr style=\"text-align: right;\">\n",
       "      <th></th>\n",
       "      <th>ID</th>\n",
       "      <th>Resume_str</th>\n",
       "      <th>Resume_html</th>\n",
       "      <th>Category</th>\n",
       "    </tr>\n",
       "  </thead>\n",
       "  <tbody>\n",
       "    <tr>\n",
       "      <th>0</th>\n",
       "      <td>16852973</td>\n",
       "      <td>HR ADMINISTRATOR/MARKETING ASSOCIATE\\...</td>\n",
       "      <td>&lt;div class=\"fontsize fontface vmargins hmargin...</td>\n",
       "      <td>HR</td>\n",
       "    </tr>\n",
       "    <tr>\n",
       "      <th>1</th>\n",
       "      <td>22323967</td>\n",
       "      <td>HR SPECIALIST, US HR OPERATIONS      ...</td>\n",
       "      <td>&lt;div class=\"fontsize fontface vmargins hmargin...</td>\n",
       "      <td>HR</td>\n",
       "    </tr>\n",
       "    <tr>\n",
       "      <th>2</th>\n",
       "      <td>33176873</td>\n",
       "      <td>HR DIRECTOR       Summary      Over 2...</td>\n",
       "      <td>&lt;div class=\"fontsize fontface vmargins hmargin...</td>\n",
       "      <td>HR</td>\n",
       "    </tr>\n",
       "    <tr>\n",
       "      <th>3</th>\n",
       "      <td>27018550</td>\n",
       "      <td>HR SPECIALIST       Summary    Dedica...</td>\n",
       "      <td>&lt;div class=\"fontsize fontface vmargins hmargin...</td>\n",
       "      <td>HR</td>\n",
       "    </tr>\n",
       "    <tr>\n",
       "      <th>4</th>\n",
       "      <td>17812897</td>\n",
       "      <td>HR MANAGER         Skill Highlights  ...</td>\n",
       "      <td>&lt;div class=\"fontsize fontface vmargins hmargin...</td>\n",
       "      <td>HR</td>\n",
       "    </tr>\n",
       "  </tbody>\n",
       "</table>\n",
       "</div>"
      ],
      "text/plain": [
       "         ID                                         Resume_str  \\\n",
       "0  16852973           HR ADMINISTRATOR/MARKETING ASSOCIATE\\...   \n",
       "1  22323967           HR SPECIALIST, US HR OPERATIONS      ...   \n",
       "2  33176873           HR DIRECTOR       Summary      Over 2...   \n",
       "3  27018550           HR SPECIALIST       Summary    Dedica...   \n",
       "4  17812897           HR MANAGER         Skill Highlights  ...   \n",
       "\n",
       "                                         Resume_html Category  \n",
       "0  <div class=\"fontsize fontface vmargins hmargin...       HR  \n",
       "1  <div class=\"fontsize fontface vmargins hmargin...       HR  \n",
       "2  <div class=\"fontsize fontface vmargins hmargin...       HR  \n",
       "3  <div class=\"fontsize fontface vmargins hmargin...       HR  \n",
       "4  <div class=\"fontsize fontface vmargins hmargin...       HR  "
      ]
     },
     "execution_count": 3,
     "metadata": {},
     "output_type": "execute_result"
    }
   ],
   "source": [
    "df.head()"
   ]
  },
  {
   "cell_type": "code",
   "execution_count": 4,
   "metadata": {},
   "outputs": [
    {
     "name": "stderr",
     "output_type": "stream",
     "text": [
      "[nltk_data] Downloading package stopwords to\n",
      "[nltk_data]     /Users/agniksaha/nltk_data...\n",
      "[nltk_data]   Package stopwords is already up-to-date!\n",
      "[nltk_data] Downloading package wordnet to\n",
      "[nltk_data]     /Users/agniksaha/nltk_data...\n",
      "[nltk_data]   Package wordnet is already up-to-date!\n"
     ]
    },
    {
     "data": {
      "text/plain": [
       "True"
      ]
     },
     "execution_count": 4,
     "metadata": {},
     "output_type": "execute_result"
    }
   ],
   "source": [
    "import nltk\n",
    "nltk.download('stopwords')\n",
    "nltk.download('wordnet')"
   ]
  },
  {
   "cell_type": "code",
   "execution_count": 5,
   "metadata": {},
   "outputs": [
    {
     "name": "stderr",
     "output_type": "stream",
     "text": [
      "[nltk_data] Downloading package punkt to /Users/agniksaha/nltk_data...\n",
      "[nltk_data]   Package punkt is already up-to-date!\n",
      "[nltk_data] Downloading package averaged_perceptron_tagger to\n",
      "[nltk_data]     /Users/agniksaha/nltk_data...\n",
      "[nltk_data]   Package averaged_perceptron_tagger is already up-to-\n",
      "[nltk_data]       date!\n"
     ]
    }
   ],
   "source": [
    "import spacy\n",
    "import nltk\n",
    "from nltk.tokenize import word_tokenize\n",
    "from nltk.corpus import stopwords\n",
    "import regex as re\n",
    "import string\n",
    "import numpy as np\n",
    "import nltk.data\n",
    "import re\n",
    "nltk.download('punkt')\n",
    "nltk.download('averaged_perceptron_tagger')\n",
    "from nltk.stem import WordNetLemmatizer\n",
    "from nltk import word_tokenize, sent_tokenize, pos_tag"
   ]
  },
  {
   "cell_type": "code",
   "execution_count": 6,
   "metadata": {},
   "outputs": [],
   "source": [
    "def convert_to_lower(text):\n",
    "    return text.lower()\n",
    "\n",
    "def remove_numbers(text):\n",
    "    text = re.sub(r'd+' , '', text)\n",
    "    return text\n",
    "\n",
    "def remove_white_space(text):\n",
    "    text = text.strip()\n",
    "#      text = text.encode('utf-8', errors='ignore').decode('utf-8')\n",
    "    return text\n"
   ]
  },
  {
   "cell_type": "code",
   "execution_count": 7,
   "metadata": {},
   "outputs": [],
   "source": [
    "def preprocess_text(text):\n",
    "    text = remove_numbers(text)\n",
    "    text = convert_to_lower(text)\n",
    "    text = remove_white_space(text)\n",
    "    return text\n"
   ]
  },
  {
   "cell_type": "code",
   "execution_count": 8,
   "metadata": {},
   "outputs": [],
   "source": [
    "df[\"Resume_html_str\"] = df['Resume_html'].apply(lambda x: BeautifulSoup(x).get_text())"
   ]
  },
  {
   "cell_type": "code",
   "execution_count": 9,
   "metadata": {},
   "outputs": [],
   "source": [
    "df[\"Resume_html_str\"] = df['Resume_html_str'].apply(lambda x: preprocess_text(x))"
   ]
  },
  {
   "cell_type": "code",
   "execution_count": 14,
   "metadata": {},
   "outputs": [],
   "source": [
    "from keyphrase_vectorizers import KeyphraseCountVectorizer\n",
    "from keybert import KeyBERT\n",
    "def get_keyword_bert(docs):\n",
    "    try:\n",
    "        vectorizer = KeyphraseCountVectorizer()\n",
    "        kw_model = KeyBERT()\n",
    "        onewords = kw_model.extract_keywords(docs=docs, vectorizer=vectorizer,top_n=5,stop_words='english')\n",
    "        return onewords\n",
    "    except:\n",
    "        pass        "
   ]
  },
  {
   "cell_type": "code",
   "execution_count": 16,
   "metadata": {},
   "outputs": [],
   "source": [
    "# !pip install multi_rake\n",
    "from multi_rake import Rake\n",
    "\n",
    "def get_keywords_rake(full_text):\n",
    "    try:\n",
    "        rake = Rake()\n",
    "        keywords = rake.apply(full_text)\n",
    "        return keywords\n",
    "    except:\n",
    "        pass"
   ]
  },
  {
   "cell_type": "code",
   "execution_count": 15,
   "metadata": {},
   "outputs": [],
   "source": [
    "df['keywords_bert'] = df.Resume_html_str.apply(lambda x: get_keyword_bert(x))"
   ]
  },
  {
   "cell_type": "code",
   "execution_count": 17,
   "metadata": {},
   "outputs": [],
   "source": [
    "df['keywords_rake'] = df.Resume_html_str.apply(lambda x: get_keywords_rake(x))"
   ]
  },
  {
   "cell_type": "code",
   "execution_count": 18,
   "metadata": {},
   "outputs": [],
   "source": [
    "df.to_csv(\"filtered_resume.csv\")"
   ]
  },
  {
   "cell_type": "code",
   "execution_count": 19,
   "metadata": {},
   "outputs": [
    {
     "data": {
      "text/html": [
       "<div>\n",
       "<style scoped>\n",
       "    .dataframe tbody tr th:only-of-type {\n",
       "        vertical-align: middle;\n",
       "    }\n",
       "\n",
       "    .dataframe tbody tr th {\n",
       "        vertical-align: top;\n",
       "    }\n",
       "\n",
       "    .dataframe thead th {\n",
       "        text-align: right;\n",
       "    }\n",
       "</style>\n",
       "<table border=\"1\" class=\"dataframe\">\n",
       "  <thead>\n",
       "    <tr style=\"text-align: right;\">\n",
       "      <th></th>\n",
       "      <th>ID</th>\n",
       "      <th>Resume_str</th>\n",
       "      <th>Resume_html</th>\n",
       "      <th>Category</th>\n",
       "      <th>Resume_html_str</th>\n",
       "      <th>keywords_bert</th>\n",
       "      <th>keywords_rake</th>\n",
       "    </tr>\n",
       "  </thead>\n",
       "  <tbody>\n",
       "    <tr>\n",
       "      <th>0</th>\n",
       "      <td>16852973</td>\n",
       "      <td>HR ADMINISTRATOR/MARKETING ASSOCIATE\\...</td>\n",
       "      <td>&lt;div class=\"fontsize fontface vmargins hmargin...</td>\n",
       "      <td>HR</td>\n",
       "      <td>hr administrator/marketing associate\\n\\nhr adm...</td>\n",
       "      <td>[(hr administrator, 0.5612), (missouri dot sup...</td>\n",
       "      <td>[(micros opera pms, 9.0), (hospital stays prio...</td>\n",
       "    </tr>\n",
       "    <tr>\n",
       "      <th>1</th>\n",
       "      <td>22323967</td>\n",
       "      <td>HR SPECIALIST, US HR OPERATIONS      ...</td>\n",
       "      <td>&lt;div class=\"fontsize fontface vmargins hmargin...</td>\n",
       "      <td>HR</td>\n",
       "      <td>hr specialist, us hr operations       summary ...</td>\n",
       "      <td>[(us hr operations, 0.6432), (hr managers, 0.6...</td>\n",
       "      <td>[(hire benefits briefing, 9.0), (etermine prog...</td>\n",
       "    </tr>\n",
       "    <tr>\n",
       "      <th>2</th>\n",
       "      <td>33176873</td>\n",
       "      <td>HR DIRECTOR       Summary      Over 2...</td>\n",
       "      <td>&lt;div class=\"fontsize fontface vmargins hmargin...</td>\n",
       "      <td>HR</td>\n",
       "      <td>hr director       summary      over 20 years e...</td>\n",
       "      <td>[(hris development, 0.4957), (human resource p...</td>\n",
       "      <td>[(friens university topeka, 9.0), (leaing chan...</td>\n",
       "    </tr>\n",
       "    <tr>\n",
       "      <th>3</th>\n",
       "      <td>27018550</td>\n",
       "      <td>HR SPECIALIST       Summary    Dedica...</td>\n",
       "      <td>&lt;div class=\"fontsize fontface vmargins hmargin...</td>\n",
       "      <td>HR</td>\n",
       "      <td>hr specialist       summary    deicate, driven...</td>\n",
       "      <td>[(customer service expertise, 0.5182), (hr spe...</td>\n",
       "      <td>[(soli team player, 9.0), (answer questions re...</td>\n",
       "    </tr>\n",
       "    <tr>\n",
       "      <th>4</th>\n",
       "      <td>17812897</td>\n",
       "      <td>HR MANAGER         Skill Highlights  ...</td>\n",
       "      <td>&lt;div class=\"fontsize fontface vmargins hmargin...</td>\n",
       "      <td>HR</td>\n",
       "      <td>hr manager         skill highlights           ...</td>\n",
       "      <td>[(hr skills, 0.7018), (human resource manageme...</td>\n",
       "      <td>[(workforce planning initiatives, 9.0), (overs...</td>\n",
       "    </tr>\n",
       "    <tr>\n",
       "      <th>...</th>\n",
       "      <td>...</td>\n",
       "      <td>...</td>\n",
       "      <td>...</td>\n",
       "      <td>...</td>\n",
       "      <td>...</td>\n",
       "      <td>...</td>\n",
       "      <td>...</td>\n",
       "    </tr>\n",
       "    <tr>\n",
       "      <th>2479</th>\n",
       "      <td>99416532</td>\n",
       "      <td>RANK: SGT/E-5 NON- COMMISSIONED OFFIC...</td>\n",
       "      <td>&lt;div class=\"fontsize fontface vmargins hmargin...</td>\n",
       "      <td>AVIATION</td>\n",
       "      <td>rank: sgt/e-5 non- commissioned officer in cha...</td>\n",
       "      <td>[(4th combat aviation brigae mail room, 0.5415...</td>\n",
       "      <td>[(managing inventory control, 9.0), (excellent...</td>\n",
       "    </tr>\n",
       "    <tr>\n",
       "      <th>2480</th>\n",
       "      <td>24589765</td>\n",
       "      <td>GOVERNMENT RELATIONS, COMMUNICATIONS ...</td>\n",
       "      <td>&lt;div class=\"fontsize fontface vmargins hmargin...</td>\n",
       "      <td>AVIATION</td>\n",
       "      <td>government relations, communications and organ...</td>\n",
       "      <td>[(leas external communications team leverage, ...</td>\n",
       "      <td>[(resourceful * successful, 9.0), (develops st...</td>\n",
       "    </tr>\n",
       "    <tr>\n",
       "      <th>2481</th>\n",
       "      <td>31605080</td>\n",
       "      <td>GEEK SQUAD AGENT         Professional...</td>\n",
       "      <td>&lt;div class=\"fontsize fontface vmargins hmargin...</td>\n",
       "      <td>AVIATION</td>\n",
       "      <td>geek squad agent         professional profile ...</td>\n",
       "      <td>[(geek squad agent, 0.5774), (technical suppor...</td>\n",
       "      <td>[(teste tanks accoring, 9.0), (information tec...</td>\n",
       "    </tr>\n",
       "    <tr>\n",
       "      <th>2482</th>\n",
       "      <td>21190805</td>\n",
       "      <td>PROGRAM DIRECTOR / OFFICE MANAGER    ...</td>\n",
       "      <td>&lt;div class=\"fontsize fontface vmargins hmargin...</td>\n",
       "      <td>AVIATION</td>\n",
       "      <td>program director / office manager           su...</td>\n",
       "      <td>[(office manager, 0.5302), (program director, ...</td>\n",
       "      <td>[(tech savvy professional, 9.0), (social meia ...</td>\n",
       "    </tr>\n",
       "    <tr>\n",
       "      <th>2483</th>\n",
       "      <td>37473139</td>\n",
       "      <td>STOREKEEPER II       Professional Sum...</td>\n",
       "      <td>&lt;div class=\"fontsize fontface vmargins hmargin...</td>\n",
       "      <td>AVIATION</td>\n",
       "      <td>storekeeper ii       professional summary    t...</td>\n",
       "      <td>[(storekeeper ii, 0.6335), (years processing p...</td>\n",
       "      <td>[(builing positive relationships, 9.0), (probl...</td>\n",
       "    </tr>\n",
       "  </tbody>\n",
       "</table>\n",
       "<p>2484 rows × 7 columns</p>\n",
       "</div>"
      ],
      "text/plain": [
       "            ID                                         Resume_str  \\\n",
       "0     16852973           HR ADMINISTRATOR/MARKETING ASSOCIATE\\...   \n",
       "1     22323967           HR SPECIALIST, US HR OPERATIONS      ...   \n",
       "2     33176873           HR DIRECTOR       Summary      Over 2...   \n",
       "3     27018550           HR SPECIALIST       Summary    Dedica...   \n",
       "4     17812897           HR MANAGER         Skill Highlights  ...   \n",
       "...        ...                                                ...   \n",
       "2479  99416532           RANK: SGT/E-5 NON- COMMISSIONED OFFIC...   \n",
       "2480  24589765           GOVERNMENT RELATIONS, COMMUNICATIONS ...   \n",
       "2481  31605080           GEEK SQUAD AGENT         Professional...   \n",
       "2482  21190805           PROGRAM DIRECTOR / OFFICE MANAGER    ...   \n",
       "2483  37473139           STOREKEEPER II       Professional Sum...   \n",
       "\n",
       "                                            Resume_html  Category  \\\n",
       "0     <div class=\"fontsize fontface vmargins hmargin...        HR   \n",
       "1     <div class=\"fontsize fontface vmargins hmargin...        HR   \n",
       "2     <div class=\"fontsize fontface vmargins hmargin...        HR   \n",
       "3     <div class=\"fontsize fontface vmargins hmargin...        HR   \n",
       "4     <div class=\"fontsize fontface vmargins hmargin...        HR   \n",
       "...                                                 ...       ...   \n",
       "2479  <div class=\"fontsize fontface vmargins hmargin...  AVIATION   \n",
       "2480  <div class=\"fontsize fontface vmargins hmargin...  AVIATION   \n",
       "2481  <div class=\"fontsize fontface vmargins hmargin...  AVIATION   \n",
       "2482  <div class=\"fontsize fontface vmargins hmargin...  AVIATION   \n",
       "2483  <div class=\"fontsize fontface vmargins hmargin...  AVIATION   \n",
       "\n",
       "                                        Resume_html_str  \\\n",
       "0     hr administrator/marketing associate\\n\\nhr adm...   \n",
       "1     hr specialist, us hr operations       summary ...   \n",
       "2     hr director       summary      over 20 years e...   \n",
       "3     hr specialist       summary    deicate, driven...   \n",
       "4     hr manager         skill highlights           ...   \n",
       "...                                                 ...   \n",
       "2479  rank: sgt/e-5 non- commissioned officer in cha...   \n",
       "2480  government relations, communications and organ...   \n",
       "2481  geek squad agent         professional profile ...   \n",
       "2482  program director / office manager           su...   \n",
       "2483  storekeeper ii       professional summary    t...   \n",
       "\n",
       "                                          keywords_bert  \\\n",
       "0     [(hr administrator, 0.5612), (missouri dot sup...   \n",
       "1     [(us hr operations, 0.6432), (hr managers, 0.6...   \n",
       "2     [(hris development, 0.4957), (human resource p...   \n",
       "3     [(customer service expertise, 0.5182), (hr spe...   \n",
       "4     [(hr skills, 0.7018), (human resource manageme...   \n",
       "...                                                 ...   \n",
       "2479  [(4th combat aviation brigae mail room, 0.5415...   \n",
       "2480  [(leas external communications team leverage, ...   \n",
       "2481  [(geek squad agent, 0.5774), (technical suppor...   \n",
       "2482  [(office manager, 0.5302), (program director, ...   \n",
       "2483  [(storekeeper ii, 0.6335), (years processing p...   \n",
       "\n",
       "                                          keywords_rake  \n",
       "0     [(micros opera pms, 9.0), (hospital stays prio...  \n",
       "1     [(hire benefits briefing, 9.0), (etermine prog...  \n",
       "2     [(friens university topeka, 9.0), (leaing chan...  \n",
       "3     [(soli team player, 9.0), (answer questions re...  \n",
       "4     [(workforce planning initiatives, 9.0), (overs...  \n",
       "...                                                 ...  \n",
       "2479  [(managing inventory control, 9.0), (excellent...  \n",
       "2480  [(resourceful * successful, 9.0), (develops st...  \n",
       "2481  [(teste tanks accoring, 9.0), (information tec...  \n",
       "2482  [(tech savvy professional, 9.0), (social meia ...  \n",
       "2483  [(builing positive relationships, 9.0), (probl...  \n",
       "\n",
       "[2484 rows x 7 columns]"
      ]
     },
     "execution_count": 19,
     "metadata": {},
     "output_type": "execute_result"
    }
   ],
   "source": [
    "df"
   ]
  },
  {
   "cell_type": "code",
   "execution_count": 2,
   "metadata": {},
   "outputs": [],
   "source": [
    "df1 = pd.read_csv(\"filtered_resume.csv\")\n",
    "df2 = pd.read_csv(\"resumes_from_pdf_2.csv\")"
   ]
  },
  {
   "cell_type": "code",
   "execution_count": 3,
   "metadata": {},
   "outputs": [],
   "source": [
    "df1 = df1[[\"keywords_bert\",\"Category\"]]\n",
    "df2 = df2[[\"keywords_bert\",\"label\"]]"
   ]
  },
  {
   "cell_type": "code",
   "execution_count": 4,
   "metadata": {},
   "outputs": [],
   "source": [
    "df1.rename(columns = {'Category':'label'}, inplace = True)"
   ]
  },
  {
   "cell_type": "code",
   "execution_count": 5,
   "metadata": {},
   "outputs": [],
   "source": [
    "df = pd.concat([df1, df2])"
   ]
  },
  {
   "cell_type": "code",
   "execution_count": 7,
   "metadata": {},
   "outputs": [
    {
     "data": {
      "text/plain": [
       "4968"
      ]
     },
     "execution_count": 7,
     "metadata": {},
     "output_type": "execute_result"
    }
   ],
   "source": [
    "len(df)"
   ]
  },
  {
   "cell_type": "code",
   "execution_count": 6,
   "metadata": {},
   "outputs": [
    {
     "data": {
      "text/plain": [
       "INFORMATION-TECHNOLOGY    240\n",
       "BUSINESS-DEVELOPMENT      240\n",
       "FINANCE                   236\n",
       "ADVOCATE                  236\n",
       "ACCOUNTANT                236\n",
       "ENGINEERING               236\n",
       "CHEF                      236\n",
       "AVIATION                  234\n",
       "FITNESS                   234\n",
       "SALES                     232\n",
       "BANKING                   230\n",
       "HEALTHCARE                230\n",
       "CONSULTANT                230\n",
       "CONSTRUCTION              224\n",
       "PUBLIC-RELATIONS          222\n",
       "HR                        220\n",
       "DESIGNER                  214\n",
       "ARTS                      206\n",
       "TEACHER                   204\n",
       "APPAREL                   194\n",
       "DIGITAL-MEDIA             192\n",
       "AGRICULTURE               126\n",
       "AUTOMOBILE                 72\n",
       "BPO                        44\n",
       "Name: label, dtype: int64"
      ]
     },
     "execution_count": 6,
     "metadata": {},
     "output_type": "execute_result"
    }
   ],
   "source": [
    "df['label'].value_counts()"
   ]
  },
  {
   "cell_type": "code",
   "execution_count": 8,
   "metadata": {},
   "outputs": [],
   "source": [
    "from ast import literal_eval\n",
    "df.keywords_bert = df.keywords_bert.apply(literal_eval)"
   ]
  },
  {
   "cell_type": "code",
   "execution_count": 9,
   "metadata": {},
   "outputs": [],
   "source": [
    "def get_first_ele(x):\n",
    "    res = []\n",
    "    for i in x:\n",
    "        res.append(i[0])\n",
    "    return ','.join(res)\n",
    "\n",
    "df['keywords_bert'] = df.keywords_bert.apply(lambda x: get_first_ele(x))"
   ]
  },
  {
   "cell_type": "code",
   "execution_count": 10,
   "metadata": {},
   "outputs": [
    {
     "data": {
      "text/plain": [
       "0       hr administrator,missouri dot supervisor train...\n",
       "1       us hr operations,hr managers,us hr operations ...\n",
       "2       hris development,human resource program,human ...\n",
       "3       customer service expertise,hr specialist,custo...\n",
       "4       hr skills,human resource management,hr service...\n",
       "                              ...                        \n",
       "2479    automobile liability claims representative,gen...\n",
       "2480    automobile transporter,car transporter,car hau...\n",
       "2481    programming,statistics softwares,mechanical sk...\n",
       "2482    customer relations specialist,customer service...\n",
       "2483    senior fraud claims specialist degree,certifie...\n",
       "Name: keywords_bert, Length: 4968, dtype: object"
      ]
     },
     "execution_count": 10,
     "metadata": {},
     "output_type": "execute_result"
    }
   ],
   "source": [
    "df['keywords_bert']"
   ]
  },
  {
   "cell_type": "code",
   "execution_count": 11,
   "metadata": {},
   "outputs": [
    {
     "data": {
      "text/html": [
       "<div>\n",
       "<style scoped>\n",
       "    .dataframe tbody tr th:only-of-type {\n",
       "        vertical-align: middle;\n",
       "    }\n",
       "\n",
       "    .dataframe tbody tr th {\n",
       "        vertical-align: top;\n",
       "    }\n",
       "\n",
       "    .dataframe thead th {\n",
       "        text-align: right;\n",
       "    }\n",
       "</style>\n",
       "<table border=\"1\" class=\"dataframe\">\n",
       "  <thead>\n",
       "    <tr style=\"text-align: right;\">\n",
       "      <th></th>\n",
       "      <th>keywords_bert</th>\n",
       "      <th>label</th>\n",
       "    </tr>\n",
       "  </thead>\n",
       "  <tbody>\n",
       "    <tr>\n",
       "      <th>0</th>\n",
       "      <td>hr administrator,missouri dot supervisor train...</td>\n",
       "      <td>HR</td>\n",
       "    </tr>\n",
       "    <tr>\n",
       "      <th>1</th>\n",
       "      <td>us hr operations,hr managers,us hr operations ...</td>\n",
       "      <td>HR</td>\n",
       "    </tr>\n",
       "    <tr>\n",
       "      <th>2</th>\n",
       "      <td>hris development,human resource program,human ...</td>\n",
       "      <td>HR</td>\n",
       "    </tr>\n",
       "    <tr>\n",
       "      <th>3</th>\n",
       "      <td>customer service expertise,hr specialist,custo...</td>\n",
       "      <td>HR</td>\n",
       "    </tr>\n",
       "    <tr>\n",
       "      <th>4</th>\n",
       "      <td>hr skills,human resource management,hr service...</td>\n",
       "      <td>HR</td>\n",
       "    </tr>\n",
       "  </tbody>\n",
       "</table>\n",
       "</div>"
      ],
      "text/plain": [
       "                                       keywords_bert label\n",
       "0  hr administrator,missouri dot supervisor train...    HR\n",
       "1  us hr operations,hr managers,us hr operations ...    HR\n",
       "2  hris development,human resource program,human ...    HR\n",
       "3  customer service expertise,hr specialist,custo...    HR\n",
       "4  hr skills,human resource management,hr service...    HR"
      ]
     },
     "execution_count": 11,
     "metadata": {},
     "output_type": "execute_result"
    }
   ],
   "source": [
    "df.head()"
   ]
  }
 ],
 "metadata": {
  "kernelspec": {
   "display_name": "Python 3",
   "language": "python",
   "name": "python3"
  },
  "language_info": {
   "codemirror_mode": {
    "name": "ipython",
    "version": 3
   },
   "file_extension": ".py",
   "mimetype": "text/x-python",
   "name": "python",
   "nbconvert_exporter": "python",
   "pygments_lexer": "ipython3",
   "version": "3.8.5"
  }
 },
 "nbformat": 4,
 "nbformat_minor": 4
}
