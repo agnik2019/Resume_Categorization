{
 "cells": [
  {
   "cell_type": "code",
   "execution_count": 18,
   "metadata": {},
   "outputs": [
    {
     "name": "stdout",
     "output_type": "stream",
     "text": [
      "\u001b[33mWARNING: Value for scheme.headers does not match. Please report this to <https://github.com/pypa/pip/issues/9617>\n",
      "distutils: /opt/anaconda3/include/python3.8/UNKNOWN\n",
      "sysconfig: /opt/anaconda3/include/python3.8\u001b[0m\n",
      "\u001b[33mWARNING: Additional context:\n",
      "user = False\n",
      "home = None\n",
      "root = None\n",
      "prefix = None\u001b[0m\n",
      "Requirement already satisfied: PyPDF2 in /opt/anaconda3/lib/python3.8/site-packages (3.0.1)\n",
      "Requirement already satisfied: typing_extensions>=3.10.0.0 in /opt/anaconda3/lib/python3.8/site-packages (from PyPDF2) (4.6.3)\n",
      "\u001b[33mWARNING: Value for scheme.headers does not match. Please report this to <https://github.com/pypa/pip/issues/9617>\n",
      "distutils: /opt/anaconda3/include/python3.8/UNKNOWN\n",
      "sysconfig: /opt/anaconda3/include/python3.8\u001b[0m\n",
      "\u001b[33mWARNING: Additional context:\n",
      "user = False\n",
      "home = None\n",
      "root = None\n",
      "prefix = None\u001b[0m\n",
      "\u001b[33mWARNING: You are using pip version 21.1; however, version 23.2.1 is available.\n",
      "You should consider upgrading via the '/opt/anaconda3/bin/python -m pip install --upgrade pip' command.\u001b[0m\n"
     ]
    }
   ],
   "source": [
    "!pip install PyPDF2"
   ]
  },
  {
   "cell_type": "code",
   "execution_count": 19,
   "metadata": {},
   "outputs": [],
   "source": [
    "from PyPDF2 import PdfReader"
   ]
  },
  {
   "cell_type": "code",
   "execution_count": 2,
   "metadata": {},
   "outputs": [],
   "source": [
    "import re\n",
    "import os, os.path\n",
    "import fnmatch\n",
    "import json\n",
    "import collections\n",
    "import glob\n",
    "import json"
   ]
  },
  {
   "cell_type": "code",
   "execution_count": 21,
   "metadata": {},
   "outputs": [],
   "source": [
    "def get_text_from_pdf(pdffile):\n",
    "    # read text from pdf\n",
    "    pdfreader = PdfReader(pdffile)\n",
    "    raw_text = ''\n",
    "    for i, page in enumerate(pdfreader.pages):\n",
    "        content = page.extract_text()\n",
    "        if content:\n",
    "            raw_text += content\n",
    "    return raw_text"
   ]
  },
  {
   "cell_type": "code",
   "execution_count": 34,
   "metadata": {},
   "outputs": [],
   "source": [
    "rootdir = \"/Users/agniksaha/Documents/Resume_classification/data/\"\n",
    "df_dict = {}\n",
    "\n",
    "keys = []\n",
    "texts = []\n",
    "\n",
    "for path in glob.glob(f'{rootdir}/*/**/', recursive=True):\n",
    "    key = str(path.split('/')[-2])\n",
    "    files = [f for f in os.listdir(path)]\n",
    "    for f in files:\n",
    "        dir_path = path+f\n",
    "        texts.append(get_text_from_pdf(dir_path))   \n",
    "        keys.append(key)\n"
   ]
  },
  {
   "cell_type": "code",
   "execution_count": 35,
   "metadata": {},
   "outputs": [],
   "source": [
    "import pandas as pd\n",
    "\n",
    "df = pd.DataFrame()\n",
    "df['label'] = keys\n",
    "df['text'] = texts\n",
    "\n",
    "df.to_csv(\"resumes_from_pdf.csv\")"
   ]
  },
  {
   "cell_type": "code",
   "execution_count": 36,
   "metadata": {},
   "outputs": [
    {
     "data": {
      "text/plain": [
       "2484"
      ]
     },
     "execution_count": 36,
     "metadata": {},
     "output_type": "execute_result"
    }
   ],
   "source": [
    "len(df)"
   ]
  },
  {
   "cell_type": "code",
   "execution_count": 37,
   "metadata": {},
   "outputs": [],
   "source": [
    "def convert_to_lower(text):\n",
    "    return text.lower()\n",
    "\n",
    "def remove_numbers(text):\n",
    "    text = re.sub(r'd+' , '', text)\n",
    "    return text\n",
    "\n",
    "def remove_white_space(text):\n",
    "    text = text.strip()\n",
    "    return text\n",
    "\n",
    "def preprocess_text(text):\n",
    "    text = remove_numbers(text)\n",
    "    text = convert_to_lower(text)\n",
    "    text = remove_white_space(text)\n",
    "    return text\n",
    "\n",
    "from keyphrase_vectorizers import KeyphraseCountVectorizer\n",
    "from keybert import KeyBERT\n",
    "def get_keyword_bert(docs):\n",
    "    try:\n",
    "        vectorizer = KeyphraseCountVectorizer()\n",
    "        kw_model = KeyBERT()\n",
    "        onewords = kw_model.extract_keywords(docs=docs, vectorizer=vectorizer,top_n=5,stop_words='english')\n",
    "        return onewords\n",
    "    except:\n",
    "        pass        \n",
    "    \n",
    "# !pip install multi_rake\n",
    "from multi_rake import Rake\n",
    "\n",
    "def get_keywords_rake(full_text):\n",
    "    try:\n",
    "        rake = Rake()\n",
    "        keywords = rake.apply(full_text)\n",
    "        return keywords\n",
    "    except:\n",
    "        pass\n",
    "    \n",
    "    \n",
    "df['keywords_bert'] = df.text.apply(lambda x: get_keyword_bert(x))\n",
    "df['keywords_rake'] = df.text.apply(lambda x: get_keywords_rake(x))\n",
    "\n",
    "df.to_csv(\"resumes_from_pdf_2.csv\")\n"
   ]
  },
  {
   "cell_type": "code",
   "execution_count": 38,
   "metadata": {},
   "outputs": [
    {
     "data": {
      "text/html": [
       "<div>\n",
       "<style scoped>\n",
       "    .dataframe tbody tr th:only-of-type {\n",
       "        vertical-align: middle;\n",
       "    }\n",
       "\n",
       "    .dataframe tbody tr th {\n",
       "        vertical-align: top;\n",
       "    }\n",
       "\n",
       "    .dataframe thead th {\n",
       "        text-align: right;\n",
       "    }\n",
       "</style>\n",
       "<table border=\"1\" class=\"dataframe\">\n",
       "  <thead>\n",
       "    <tr style=\"text-align: right;\">\n",
       "      <th></th>\n",
       "      <th>label</th>\n",
       "      <th>text</th>\n",
       "      <th>keywords_bert</th>\n",
       "      <th>keywords_rake</th>\n",
       "    </tr>\n",
       "  </thead>\n",
       "  <tbody>\n",
       "    <tr>\n",
       "      <th>0</th>\n",
       "      <td>AGRICULTURE</td>\n",
       "      <td>ADULT EDUCATION INSTRUCTOR\\nSummary\\nSeasoned ...</td>\n",
       "      <td>[(adult education instructor, 0.6756), (adult ...</td>\n",
       "      <td>[(covina high school, 9.0), (bloomington high ...</td>\n",
       "    </tr>\n",
       "    <tr>\n",
       "      <th>1</th>\n",
       "      <td>AGRICULTURE</td>\n",
       "      <td>FINANCIAL SALES CONSULTANT\\nProfessional Summa...</td>\n",
       "      <td>[(financial sales consultant, 0.662), (client ...</td>\n",
       "      <td>[(press kit construction, 9.0), (youth activis...</td>\n",
       "    </tr>\n",
       "    <tr>\n",
       "      <th>2</th>\n",
       "      <td>AGRICULTURE</td>\n",
       "      <td>EXTENSION METHODOLOGIST\\nProfile\\nSelf-motivat...</td>\n",
       "      <td>[(extension methodologist, 0.645), (agricultur...</td>\n",
       "      <td>[(yielding good results, 9.0), (giving excelle...</td>\n",
       "    </tr>\n",
       "    <tr>\n",
       "      <th>3</th>\n",
       "      <td>AGRICULTURE</td>\n",
       "      <td>RESEARCH SCIENTIST\\nSummary\\nHighly motivated ...</td>\n",
       "      <td>[(root nodule associated bacteria, 0.5252), (y...</td>\n",
       "      <td>[(characterize epigenetic modifications, 9.0),...</td>\n",
       "    </tr>\n",
       "    <tr>\n",
       "      <th>4</th>\n",
       "      <td>AGRICULTURE</td>\n",
       "      <td>FRONT DESK CLERK (FEE BASIS, JOHN D DINGELL VA...</td>\n",
       "      <td>[(front desk clerk, 0.5373), (customer service...</td>\n",
       "      <td>[(earned high marks, 9.0), (work process flow,...</td>\n",
       "    </tr>\n",
       "    <tr>\n",
       "      <th>...</th>\n",
       "      <td>...</td>\n",
       "      <td>...</td>\n",
       "      <td>...</td>\n",
       "      <td>...</td>\n",
       "    </tr>\n",
       "    <tr>\n",
       "      <th>2479</th>\n",
       "      <td>AUTOMOBILE</td>\n",
       "      <td>GENERAL LIABILITY CLAIM REPRESENTATIVE\\nSummar...</td>\n",
       "      <td>[(automobile liability claims representative, ...</td>\n",
       "      <td>[(successfully indentifying resources, 9.0), (...</td>\n",
       "    </tr>\n",
       "    <tr>\n",
       "      <th>2480</th>\n",
       "      <td>AUTOMOBILE</td>\n",
       "      <td>AUTOMOBILE TRANSPORTER\\nProfessional Summary\\n...</td>\n",
       "      <td>[(automobile transporter, 0.6479), (car transp...</td>\n",
       "      <td>[(clean driver's license, 9.0), (exceptional l...</td>\n",
       "    </tr>\n",
       "    <tr>\n",
       "      <th>2481</th>\n",
       "      <td>AUTOMOBILE</td>\n",
       "      <td>Highlights\\nProg. Languages: \\nC (5+ yrs), Pyt...</td>\n",
       "      <td>[(programming, 0.4858), (statistics softwares,...</td>\n",
       "      <td>[(makerbot 3d print, 9.0), (undergraduate thes...</td>\n",
       "    </tr>\n",
       "    <tr>\n",
       "      <th>2482</th>\n",
       "      <td>AUTOMOBILE</td>\n",
       "      <td>CUSTOMER RELATIONS SPECIALIST\\nSummary\\nTo obt...</td>\n",
       "      <td>[(customer relations specialist, 0.6615), (cus...</td>\n",
       "      <td>[(starbucks store managers, 9.0), (recommends ...</td>\n",
       "    </tr>\n",
       "    <tr>\n",
       "      <th>2483</th>\n",
       "      <td>AUTOMOBILE</td>\n",
       "      <td>SENIOR SPECIAL INVESTIGATOR\\nSummary\\nTo work ...</td>\n",
       "      <td>[(senior fraud claims specialist degree, 0.666...</td>\n",
       "      <td>[(filed numerous cases, 9.0), (bodily injury a...</td>\n",
       "    </tr>\n",
       "  </tbody>\n",
       "</table>\n",
       "<p>2484 rows × 4 columns</p>\n",
       "</div>"
      ],
      "text/plain": [
       "            label                                               text  \\\n",
       "0     AGRICULTURE  ADULT EDUCATION INSTRUCTOR\\nSummary\\nSeasoned ...   \n",
       "1     AGRICULTURE  FINANCIAL SALES CONSULTANT\\nProfessional Summa...   \n",
       "2     AGRICULTURE  EXTENSION METHODOLOGIST\\nProfile\\nSelf-motivat...   \n",
       "3     AGRICULTURE  RESEARCH SCIENTIST\\nSummary\\nHighly motivated ...   \n",
       "4     AGRICULTURE  FRONT DESK CLERK (FEE BASIS, JOHN D DINGELL VA...   \n",
       "...           ...                                                ...   \n",
       "2479   AUTOMOBILE  GENERAL LIABILITY CLAIM REPRESENTATIVE\\nSummar...   \n",
       "2480   AUTOMOBILE  AUTOMOBILE TRANSPORTER\\nProfessional Summary\\n...   \n",
       "2481   AUTOMOBILE  Highlights\\nProg. Languages: \\nC (5+ yrs), Pyt...   \n",
       "2482   AUTOMOBILE  CUSTOMER RELATIONS SPECIALIST\\nSummary\\nTo obt...   \n",
       "2483   AUTOMOBILE  SENIOR SPECIAL INVESTIGATOR\\nSummary\\nTo work ...   \n",
       "\n",
       "                                          keywords_bert  \\\n",
       "0     [(adult education instructor, 0.6756), (adult ...   \n",
       "1     [(financial sales consultant, 0.662), (client ...   \n",
       "2     [(extension methodologist, 0.645), (agricultur...   \n",
       "3     [(root nodule associated bacteria, 0.5252), (y...   \n",
       "4     [(front desk clerk, 0.5373), (customer service...   \n",
       "...                                                 ...   \n",
       "2479  [(automobile liability claims representative, ...   \n",
       "2480  [(automobile transporter, 0.6479), (car transp...   \n",
       "2481  [(programming, 0.4858), (statistics softwares,...   \n",
       "2482  [(customer relations specialist, 0.6615), (cus...   \n",
       "2483  [(senior fraud claims specialist degree, 0.666...   \n",
       "\n",
       "                                          keywords_rake  \n",
       "0     [(covina high school, 9.0), (bloomington high ...  \n",
       "1     [(press kit construction, 9.0), (youth activis...  \n",
       "2     [(yielding good results, 9.0), (giving excelle...  \n",
       "3     [(characterize epigenetic modifications, 9.0),...  \n",
       "4     [(earned high marks, 9.0), (work process flow,...  \n",
       "...                                                 ...  \n",
       "2479  [(successfully indentifying resources, 9.0), (...  \n",
       "2480  [(clean driver's license, 9.0), (exceptional l...  \n",
       "2481  [(makerbot 3d print, 9.0), (undergraduate thes...  \n",
       "2482  [(starbucks store managers, 9.0), (recommends ...  \n",
       "2483  [(filed numerous cases, 9.0), (bodily injury a...  \n",
       "\n",
       "[2484 rows x 4 columns]"
      ]
     },
     "execution_count": 38,
     "metadata": {},
     "output_type": "execute_result"
    }
   ],
   "source": [
    "df"
   ]
  },
  {
   "cell_type": "code",
   "execution_count": 40,
   "metadata": {},
   "outputs": [
    {
     "data": {
      "text/plain": [
       "INFORMATION-TECHNOLOGY    120\n",
       "BUSINESS-DEVELOPMENT      120\n",
       "ACCOUNTANT                118\n",
       "ADVOCATE                  118\n",
       "FINANCE                   118\n",
       "ENGINEERING               118\n",
       "CHEF                      118\n",
       "AVIATION                  117\n",
       "FITNESS                   117\n",
       "SALES                     116\n",
       "HEALTHCARE                115\n",
       "BANKING                   115\n",
       "CONSULTANT                115\n",
       "CONSTRUCTION              112\n",
       "PUBLIC-RELATIONS          111\n",
       "HR                        110\n",
       "DESIGNER                  107\n",
       "ARTS                      103\n",
       "TEACHER                   102\n",
       "APPAREL                    97\n",
       "DIGITAL-MEDIA              96\n",
       "AGRICULTURE                63\n",
       "AUTOMOBILE                 36\n",
       "BPO                        22\n",
       "Name: label, dtype: int64"
      ]
     },
     "execution_count": 40,
     "metadata": {},
     "output_type": "execute_result"
    }
   ],
   "source": [
    "df['label'].value_counts()"
   ]
  },
  {
   "cell_type": "code",
   "execution_count": null,
   "metadata": {},
   "outputs": [],
   "source": []
  }
 ],
 "metadata": {
  "kernelspec": {
   "display_name": "Python 3",
   "language": "python",
   "name": "python3"
  },
  "language_info": {
   "codemirror_mode": {
    "name": "ipython",
    "version": 3
   },
   "file_extension": ".py",
   "mimetype": "text/x-python",
   "name": "python",
   "nbconvert_exporter": "python",
   "pygments_lexer": "ipython3",
   "version": "3.8.5"
  }
 },
 "nbformat": 4,
 "nbformat_minor": 4
}
